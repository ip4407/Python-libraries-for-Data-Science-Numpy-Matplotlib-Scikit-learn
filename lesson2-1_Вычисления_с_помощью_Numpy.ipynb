{
 "cells": [
  {
   "cell_type": "markdown",
   "id": "ac6fa265",
   "metadata": {},
   "source": [
    "# Тема “Вычисления с помощью Numpy”"
   ]
  },
  {
   "cell_type": "markdown",
   "id": "a62db6ac",
   "metadata": {},
   "source": [
    "## Задание 1\n",
    "Импортируйте библиотеку Numpy и дайте ей псевдоним np.\n",
    "Создайте массив Numpy под названием a размером 5x2, то есть состоящий из 5 строк и 2 столбцов. Первый столбец должен содержать числа 1, 2, 3, 3, 1, а второй - числа 6, 8, 11, 10, 7.\n",
    "Будем считать, что каждый столбец - это признак, а строка - наблюдение.\n",
    "Затем найдите среднее значение по каждому признаку, используя метод mean массива Numpy.\n",
    "Результат запишите в массив mean_a, в нем должно быть 2 элемента.\n"
   ]
  },
  {
   "cell_type": "markdown",
   "id": "28a37dcf",
   "metadata": {},
   "source": [
    "### Решение задания 1"
   ]
  },
  {
   "cell_type": "code",
   "execution_count": 1,
   "id": "e9b7e6b2",
   "metadata": {},
   "outputs": [],
   "source": [
    "import numpy as np"
   ]
  },
  {
   "cell_type": "code",
   "execution_count": 6,
   "id": "719617e0",
   "metadata": {},
   "outputs": [
    {
     "name": "stdout",
     "output_type": "stream",
     "text": [
      "[[ 1  6]\n",
      " [ 2  8]\n",
      " [ 3 11]\n",
      " [ 3 10]\n",
      " [ 1  7]]\n"
     ]
    }
   ],
   "source": [
    "a = np.array([[1, 6],\n",
    "              [2, 8], \n",
    "              [3, 11], \n",
    "              [3, 10],\n",
    "              [1, 7]])\n",
    "print(a)"
   ]
  },
  {
   "cell_type": "code",
   "execution_count": 11,
   "id": "219646fd",
   "metadata": {},
   "outputs": [
    {
     "name": "stdout",
     "output_type": "stream",
     "text": [
      "Средние значения столбцов: [2.  8.4]\n"
     ]
    }
   ],
   "source": [
    "mean_a = a.mean(axis=0)\n",
    "print(f\"Средние значения столбцов: {mean_a}\")"
   ]
  },
  {
   "cell_type": "markdown",
   "id": "9751b097",
   "metadata": {},
   "source": [
    "## Задание 2\n",
    "\n",
    "Вычислите массив a_centered, отняв от значений массива “а” средние значения соответствующих признаков, содержащиеся в массиве mean_a. Вычисление должно производиться в одно действие. Получившийся массив должен иметь размер 5x2.\n"
   ]
  },
  {
   "cell_type": "markdown",
   "id": "41d0ee67",
   "metadata": {},
   "source": [
    "### Решение задания 2"
   ]
  },
  {
   "cell_type": "code",
   "execution_count": 14,
   "id": "2f71cc8b",
   "metadata": {},
   "outputs": [
    {
     "name": "stdout",
     "output_type": "stream",
     "text": [
      "[[-1.  -2.4]\n",
      " [ 0.  -0.4]\n",
      " [ 1.   2.6]\n",
      " [ 1.   1.6]\n",
      " [-1.  -1.4]]\n"
     ]
    }
   ],
   "source": [
    "a_centered = a - mean_a\n",
    "print(a_centered)"
   ]
  },
  {
   "cell_type": "markdown",
   "id": "1c6949c6",
   "metadata": {},
   "source": [
    "## Задание 3\n",
    "Найдите скалярное произведение столбцов массива a_centered. В результате должна получиться величина a_centered_sp. Затем поделите a_centered_sp на N-1, где N - число наблюдений."
   ]
  },
  {
   "cell_type": "markdown",
   "id": "28e2e963",
   "metadata": {},
   "source": [
    "### Решение задания 3"
   ]
  },
  {
   "cell_type": "code",
   "execution_count": 87,
   "id": "b88f0af5",
   "metadata": {},
   "outputs": [
    {
     "name": "stdout",
     "output_type": "stream",
     "text": [
      "Значения первого столбца массива \"а\": \t\t\t\t[-1.  0.  1.  1. -1.]\n",
      "Значения второго столбца массива \"а\": \t\t\t\t[-2.4 -0.4  2.6  1.6 -1.4]\n",
      "Cкалярное произведение столбцов массива \"а\" = \t\t\t8.0\n",
      "Cкалярное произведение столбцов массива / N-1 наблюдений = \t2.0\n"
     ]
    }
   ],
   "source": [
    "a_centered_sp = a_centered[:, 0].dot(a_centered[:, 1])\n",
    "print(f'Значения первого столбца массива \"а\": \\t\\t\\t\\t{a_centered[:, 0]}')\n",
    "print(f'Значения второго столбца массива \"а\": \\t\\t\\t\\t{a_centered[:, 1]}')\n",
    "print(f'Cкалярное произведение столбцов массива \"а\" = \\t\\t\\t{a_centered_sp}')\n",
    "print(f'Cкалярное произведение столбцов массива / N-1 наблюдений = \\t{a_centered_sp / (len(a_centered)-1)}')\n"
   ]
  },
  {
   "cell_type": "markdown",
   "id": "123e2a50",
   "metadata": {},
   "source": [
    "## Задание 4**\n",
    "Число, которое мы получили в конце задания 3 является ковариацией двух признаков, содержащихся в массиве “а”. В задании 3 мы делили сумму произведений центрированных признаков на N-1, а не на N, поэтому полученная нами величина является несмещенной оценкой ковариации.\n",
    "\n",
    "Подробнее узнать о ковариации можно здесь:\n",
    "##### Выборочная ковариация и выборочная дисперсия — Студопедия (https://studopedia.ru/9_153900_viborochnaya-kovariatsiya-i-viborochnaya-dispersiya.html)\n",
    "\n",
    "В этом задании проверьте получившееся число, вычислив ковариацию еще одним способом - с помощью функции np.cov. В качестве аргумента m функция np.cov должна принимать транспонированный массив “a”. В получившейся ковариационной матрице (массив Numpy размером 2x2) искомое значение ковариации будет равно элементу в строке с индексом 0 и столбце с индексом 1.\n"
   ]
  },
  {
   "cell_type": "markdown",
   "id": "7550b799",
   "metadata": {},
   "source": [
    "### Решение задания 4**"
   ]
  },
  {
   "cell_type": "code",
   "execution_count": 92,
   "id": "34de36c2",
   "metadata": {},
   "outputs": [
    {
     "name": "stdout",
     "output_type": "stream",
     "text": [
      "Вариант 1\n",
      "Искомое значение ковариации массива \"а\" = 2.0\n",
      "\n",
      "Вариант 2\n",
      "Искомое значение ковариации массива \"а\" = 2.0\n"
     ]
    }
   ],
   "source": [
    "# Вариант 1 с транпонированием матрицы\n",
    "print('Вариант 1')\n",
    "print(f'Искомое значение ковариации массива \"а\" = {np.cov(a.T)[0, 1]}\\n')\n",
    "\n",
    "# Вариант 2 без транпонирования матрицы\n",
    "print('Вариант 2')\n",
    "print(f'Искомое значение ковариации массива \"а\" = {np.cov(a, rowvar=False)[0, 1]}')"
   ]
  }
 ],
 "metadata": {
  "kernelspec": {
   "display_name": "Python 3",
   "language": "python",
   "name": "python3"
  },
  "language_info": {
   "codemirror_mode": {
    "name": "ipython",
    "version": 3
   },
   "file_extension": ".py",
   "mimetype": "text/x-python",
   "name": "python",
   "nbconvert_exporter": "python",
   "pygments_lexer": "ipython3",
   "version": "3.8.8"
  }
 },
 "nbformat": 4,
 "nbformat_minor": 5
}
