{
 "cells": [
  {
   "cell_type": "markdown",
   "id": "f2c220dc",
   "metadata": {},
   "source": [
    "# Тема “Обучение с учителем”"
   ]
  },
  {
   "cell_type": "markdown",
   "id": "3dab0017",
   "metadata": {},
   "source": [
    "---\n",
    "### Задание 1\n",
    "\n",
    "Импортируйте библиотеки `pandas` и `numpy`.\n",
    "\n",
    "Загрузите **\"Boston House Prices dataset\"** из встроенных наборов данных библиотеки `sklearn`.\n",
    "\n",
    "Создайте датафреймы **X** и **y** из этих данных.\n",
    "\n",
    "Разбейте эти датафреймы на тренировочные **(X_train, y_train)** и тестовые **(X_test, y_test)** с помощью функции `train_test_split` так, чтобы размер тестовой выборки составлял **30%** от всех данных, при этом аргумент **random_state** должен быть равен **42**.\n",
    "\n",
    "Создайте модель линейной регрессии под названием **lr** с помощью класса `LinearRegression` из модуля `sklearn.linear_model`.\n",
    "\n",
    "Обучите модель на тренировочных данных (используйте все признаки) и сделайте предсказание на тестовых.\n",
    "\n",
    "Вычислите **R2** полученных предказаний с помощью `r2_score` из модуля `sklearn.metrics`."
   ]
  },
  {
   "cell_type": "markdown",
   "id": "cb982c4e",
   "metadata": {},
   "source": [
    "#### Загружаем необходимые библиотеки и устанавливаем настройки среды для работы"
   ]
  },
  {
   "cell_type": "code",
   "execution_count": 1,
   "id": "c3dd54a9",
   "metadata": {},
   "outputs": [],
   "source": [
    "# Импортируем необходимые библиотеки\n",
    "import numpy as np\n",
    "import pandas as pd\n",
    "from matplotlib import pyplot as plt\n",
    "from pylab import rcParams"
   ]
  },
  {
   "cell_type": "code",
   "execution_count": 2,
   "id": "4703a0de",
   "metadata": {},
   "outputs": [],
   "source": [
    "# Отключаем предупреждения\n",
    "import warnings\n",
    "\n",
    "warnings.filterwarnings('ignore')"
   ]
  },
  {
   "cell_type": "code",
   "execution_count": 3,
   "id": "542c0544",
   "metadata": {},
   "outputs": [],
   "source": [
    "# Магическая команда Jupyter Notebook нужна для того, чтобы графики отображались прямо в ноутбуке, а не в отдельном окне:\n",
    "%matplotlib inline"
   ]
  },
  {
   "cell_type": "code",
   "execution_count": 4,
   "id": "13406c4a",
   "metadata": {},
   "outputs": [],
   "source": [
    "# Магическая команда позволяет рисовать графики в формате `svg`, т.е. scalable vector graphics - масштабируемая векторная\n",
    "# графика. Это придаёт изображениям большую чёткость.\n",
    "%config InlineBackend.figure_format = 'svg'"
   ]
  },
  {
   "cell_type": "markdown",
   "id": "322452f1",
   "metadata": {},
   "source": [
    "#### Загружаем и смотрим датасет"
   ]
  },
  {
   "cell_type": "code",
   "execution_count": 5,
   "id": "9d25f9ff",
   "metadata": {},
   "outputs": [],
   "source": [
    "# Функция load_boston загружает датасет.\n",
    "from sklearn.datasets import load_boston\n",
    "\n",
    "# Загружаем его в переменную boston.\n",
    "boston = load_boston()"
   ]
  },
  {
   "cell_type": "code",
   "execution_count": 6,
   "id": "461d0213",
   "metadata": {},
   "outputs": [
    {
     "data": {
      "text/plain": [
       "dict_keys(['data', 'target', 'feature_names', 'DESCR', 'filename'])"
      ]
     },
     "execution_count": 6,
     "metadata": {},
     "output_type": "execute_result"
    }
   ],
   "source": [
    "# Этот датасет представлен в виде словаря.\n",
    "# Cмотрим ключи этого словаря:\n",
    "boston.keys()"
   ]
  },
  {
   "cell_type": "code",
   "execution_count": 7,
   "id": "91744442",
   "metadata": {},
   "outputs": [
    {
     "data": {
      "text/plain": [
       "(506, 13)"
      ]
     },
     "execution_count": 7,
     "metadata": {},
     "output_type": "execute_result"
    }
   ],
   "source": [
    "# Данные о недвижимости хранятся в массиве по ключу \"data\".\n",
    "data = boston[\"data\"]\n",
    "\n",
    "data.shape"
   ]
  },
  {
   "cell_type": "code",
   "execution_count": 8,
   "id": "351d79db",
   "metadata": {},
   "outputs": [
    {
     "data": {
      "text/plain": [
       "array(['CRIM', 'ZN', 'INDUS', 'CHAS', 'NOX', 'RM', 'AGE', 'DIS', 'RAD',\n",
       "       'TAX', 'PTRATIO', 'B', 'LSTAT'], dtype='<U7')"
      ]
     },
     "execution_count": 8,
     "metadata": {},
     "output_type": "execute_result"
    }
   ],
   "source": [
    "# Каждая строка соответствует какому-то объекту (объекту недвижимости), а столбцы - каким-то его характеристикам.\n",
    "# Названия признаков хранятся в массиве по ключу \"feature_names\":\n",
    "feature_names = boston[\"feature_names\"]\n",
    "\n",
    "feature_names"
   ]
  },
  {
   "cell_type": "code",
   "execution_count": 9,
   "id": "514370f5",
   "metadata": {},
   "outputs": [
    {
     "name": "stdout",
     "output_type": "stream",
     "text": [
      ".. _boston_dataset:\n",
      "\n",
      "Boston house prices dataset\n",
      "---------------------------\n",
      "\n",
      "**Data Set Characteristics:**  \n",
      "\n",
      "    :Number of Instances: 506 \n",
      "\n",
      "    :Number of Attributes: 13 numeric/categorical predictive. Median Value (attribute 14) is usually the target.\n",
      "\n",
      "    :Attribute Information (in order):\n",
      "        - CRIM     per capita crime rate by town\n",
      "        - ZN       proportion of residential land zoned for lots over 25,000 sq.ft.\n",
      "        - INDUS    proportion of non-retail business acres per town\n",
      "        - CHAS     Charles River dummy variable (= 1 if tract bounds river; 0 otherwise)\n",
      "        - NOX      nitric oxides concentration (parts per 10 million)\n",
      "        - RM       average number of rooms per dwelling\n",
      "        - AGE      proportion of owner-occupied units built prior to 1940\n",
      "        - DIS      weighted distances to five Boston employment centres\n",
      "        - RAD      index of accessibility to radial highways\n",
      "        - TAX      full-value property-tax rate per $10,000\n",
      "        - PTRATIO  pupil-teacher ratio by town\n",
      "        - B        1000(Bk - 0.63)^2 where Bk is the proportion of blacks by town\n",
      "        - LSTAT    % lower status of the population\n",
      "        - MEDV     Median value of owner-occupied homes in $1000's\n",
      "\n",
      "    :Missing Attribute Values: None\n",
      "\n",
      "    :Creator: Harrison, D. and Rubinfeld, D.L.\n",
      "\n",
      "This is a copy of UCI ML housing dataset.\n",
      "https://archive.ics.uci.edu/ml/machine-learning-databases/housing/\n",
      "\n",
      "\n",
      "This dataset was taken from the StatLib library which is maintained at Carnegie Mellon University.\n",
      "\n",
      "The Boston house-price data of Harrison, D. and Rubinfeld, D.L. 'Hedonic\n",
      "prices and the demand for clean air', J. Environ. Economics & Management,\n",
      "vol.5, 81-102, 1978.   Used in Belsley, Kuh & Welsch, 'Regression diagnostics\n",
      "...', Wiley, 1980.   N.B. Various transformations are used in the table on\n",
      "pages 244-261 of the latter.\n",
      "\n",
      "The Boston house-price data has been used in many machine learning papers that address regression\n",
      "problems.   \n",
      "     \n",
      ".. topic:: References\n",
      "\n",
      "   - Belsley, Kuh & Welsch, 'Regression diagnostics: Identifying Influential Data and Sources of Collinearity', Wiley, 1980. 244-261.\n",
      "   - Quinlan,R. (1993). Combining Instance-Based and Model-Based Learning. In Proceedings on the Tenth International Conference of Machine Learning, 236-243, University of Massachusetts, Amherst. Morgan Kaufmann.\n",
      "\n"
     ]
    }
   ],
   "source": [
    "# Описание всего датасета можно получить по ключу \"DESCR\":\n",
    "print(boston[\"DESCR\"])"
   ]
  },
  {
   "cell_type": "markdown",
   "id": "b5f65406",
   "metadata": {},
   "source": [
    ".. _boston_dataset:\n",
    "\n",
    "### Набор данных о ценах на жилье в Бостоне\n",
    "---------------------------\n",
    "\n",
    "**Характеристики набора данных:**\n",
    "\n",
    "   :Количество экземпляров: **506** \n",
    "\n",
    "   :Количество атрибутов: **13** числовых/категориальных прогнозируемых. Медианное значение (атрибут **14**) обычно является целевым.\n",
    "\n",
    "   :Информация об атрибутах (по порядку):  \n",
    "        - **CRIM** - уровень преступности на душу населения по городу.  \n",
    "        - **ZN** - доля жилой земли, зонированной для участков площадью более 25 000 кв. футов.  \n",
    "        - **INDUS** - доля акров неторгового бизнеса по городу.  \n",
    "        - **CHAS** - фиктивная переменная Charles River (= 1, если участок граничит с рекой; 0 в противном случае).  \n",
    "        - **NOX** - концентрация оксидов азота (частей на 10 миллионов).  \n",
    "        - **RM** - среднее количество комнат в жилище.  \n",
    "        - **AGE** - доля занимаемых владельцами квартир, построенных до 1940 года.  \n",
    "        - **DIS** - взвешенные расстояния до пяти центров занятости Бостона.  \n",
    "        - **RAD** - индекс доступности к радиальным магистралям.  \n",
    "        - **TAX** - полная ставка налога на недвижимость на $10,000.  \n",
    "        - **PTRATIO** - соотношение учеников и учителей по городу.  \n",
    "        - **B** - 1000(Bk - 0.63)^2, где Bk - доля чернокожего населения в городе.  \n",
    "        - **LSTAT** - % более низкий статус населения.  \n",
    "        - **MEDV** - Медианная стоимость домов, занимаемых владельцами, в 1000 долларов США.\n",
    "\n",
    "   :Отсутствующие значения атрибутов: **Нет**\n",
    "\n",
    "   :Создатели: Харрисон, Д. и Рубинфельд, Д.Л.\n",
    "\n",
    "Это копия набора данных по жилью UCI ML.\n",
    "https://archive.ics.uci.edu/ml/machine-learning-databases/housing/\n",
    "\n",
    "\n",
    "Этот набор данных был взят из библиотеки StatLib, которая хранится в Университете Карнеги-Меллон.\n",
    "\n",
    "Данные о ценах на жилье в Бостоне из Harrison, D. and Rubinfeld, D.L. 'Hedonic\n",
    "цены и спрос на чистый воздух\", J. Environ. Economics & Management,\n",
    "vol.5, 81-102, 1978.   Используется в Belsley, Kuh & Welsch, 'Regression diagnostics\n",
    "...\", Wiley, 1980.   N.B. Различные преобразования используются в таблице на\n",
    "страницах 244-261 последней.\n",
    "\n",
    "Данные о ценах на дома в Бостоне использовались во многих работах по машинному обучению, посвященных проблемам регрессии.\n",
    "проблемы.   \n",
    "     \n",
    "... тема:: Ссылки\n",
    "\n",
    "   - Белсли, Кух и Велш, \"Регрессионная диагностика: Определение влияющих данных и источников коллинеарности\", Wiley, 1980. 244-261.\n",
    "   - Quinlan,R. (1993). Комбинирование обучения на основе экземпляров и на основе моделей. Труды десятой международной конференции по машинному обучению, 236-243, Университет Массачусетса, Амхерст. Morgan Kaufmann."
   ]
  },
  {
   "cell_type": "code",
   "execution_count": 10,
   "id": "d41ce0b1",
   "metadata": {},
   "outputs": [
    {
     "data": {
      "text/plain": [
       "array([24. , 21.6, 34.7, 33.4, 36.2, 28.7, 22.9, 27.1, 16.5, 18.9])"
      ]
     },
     "execution_count": 10,
     "metadata": {},
     "output_type": "execute_result"
    }
   ],
   "source": [
    "# Массив с целевыми значениями (ценами на недвижимость) можно получить по ключу \"target\":\n",
    "target = boston[\"target\"]\n",
    "\n",
    "target[:10]"
   ]
  },
  {
   "cell_type": "markdown",
   "id": "5921b968",
   "metadata": {},
   "source": [
    "#### Создаём несколько таблиц DataFrame"
   ]
  },
  {
   "cell_type": "code",
   "execution_count": 11,
   "id": "e9b4605c",
   "metadata": {},
   "outputs": [
    {
     "data": {
      "text/html": [
       "<div>\n",
       "<style scoped>\n",
       "    .dataframe tbody tr th:only-of-type {\n",
       "        vertical-align: middle;\n",
       "    }\n",
       "\n",
       "    .dataframe tbody tr th {\n",
       "        vertical-align: top;\n",
       "    }\n",
       "\n",
       "    .dataframe thead th {\n",
       "        text-align: right;\n",
       "    }\n",
       "</style>\n",
       "<table border=\"1\" class=\"dataframe\">\n",
       "  <thead>\n",
       "    <tr style=\"text-align: right;\">\n",
       "      <th></th>\n",
       "      <th>CRIM</th>\n",
       "      <th>ZN</th>\n",
       "      <th>INDUS</th>\n",
       "      <th>CHAS</th>\n",
       "      <th>NOX</th>\n",
       "      <th>RM</th>\n",
       "      <th>AGE</th>\n",
       "      <th>DIS</th>\n",
       "      <th>RAD</th>\n",
       "      <th>TAX</th>\n",
       "      <th>PTRATIO</th>\n",
       "      <th>B</th>\n",
       "      <th>LSTAT</th>\n",
       "    </tr>\n",
       "  </thead>\n",
       "  <tbody>\n",
       "    <tr>\n",
       "      <th>0</th>\n",
       "      <td>0.00632</td>\n",
       "      <td>18.0</td>\n",
       "      <td>2.31</td>\n",
       "      <td>0.0</td>\n",
       "      <td>0.538</td>\n",
       "      <td>6.575</td>\n",
       "      <td>65.2</td>\n",
       "      <td>4.0900</td>\n",
       "      <td>1.0</td>\n",
       "      <td>296.0</td>\n",
       "      <td>15.3</td>\n",
       "      <td>396.90</td>\n",
       "      <td>4.98</td>\n",
       "    </tr>\n",
       "    <tr>\n",
       "      <th>1</th>\n",
       "      <td>0.02731</td>\n",
       "      <td>0.0</td>\n",
       "      <td>7.07</td>\n",
       "      <td>0.0</td>\n",
       "      <td>0.469</td>\n",
       "      <td>6.421</td>\n",
       "      <td>78.9</td>\n",
       "      <td>4.9671</td>\n",
       "      <td>2.0</td>\n",
       "      <td>242.0</td>\n",
       "      <td>17.8</td>\n",
       "      <td>396.90</td>\n",
       "      <td>9.14</td>\n",
       "    </tr>\n",
       "    <tr>\n",
       "      <th>2</th>\n",
       "      <td>0.02729</td>\n",
       "      <td>0.0</td>\n",
       "      <td>7.07</td>\n",
       "      <td>0.0</td>\n",
       "      <td>0.469</td>\n",
       "      <td>7.185</td>\n",
       "      <td>61.1</td>\n",
       "      <td>4.9671</td>\n",
       "      <td>2.0</td>\n",
       "      <td>242.0</td>\n",
       "      <td>17.8</td>\n",
       "      <td>392.83</td>\n",
       "      <td>4.03</td>\n",
       "    </tr>\n",
       "    <tr>\n",
       "      <th>3</th>\n",
       "      <td>0.03237</td>\n",
       "      <td>0.0</td>\n",
       "      <td>2.18</td>\n",
       "      <td>0.0</td>\n",
       "      <td>0.458</td>\n",
       "      <td>6.998</td>\n",
       "      <td>45.8</td>\n",
       "      <td>6.0622</td>\n",
       "      <td>3.0</td>\n",
       "      <td>222.0</td>\n",
       "      <td>18.7</td>\n",
       "      <td>394.63</td>\n",
       "      <td>2.94</td>\n",
       "    </tr>\n",
       "    <tr>\n",
       "      <th>4</th>\n",
       "      <td>0.06905</td>\n",
       "      <td>0.0</td>\n",
       "      <td>2.18</td>\n",
       "      <td>0.0</td>\n",
       "      <td>0.458</td>\n",
       "      <td>7.147</td>\n",
       "      <td>54.2</td>\n",
       "      <td>6.0622</td>\n",
       "      <td>3.0</td>\n",
       "      <td>222.0</td>\n",
       "      <td>18.7</td>\n",
       "      <td>396.90</td>\n",
       "      <td>5.33</td>\n",
       "    </tr>\n",
       "  </tbody>\n",
       "</table>\n",
       "</div>"
      ],
      "text/plain": [
       "      CRIM    ZN  INDUS  CHAS    NOX     RM   AGE     DIS  RAD    TAX  \\\n",
       "0  0.00632  18.0   2.31   0.0  0.538  6.575  65.2  4.0900  1.0  296.0   \n",
       "1  0.02731   0.0   7.07   0.0  0.469  6.421  78.9  4.9671  2.0  242.0   \n",
       "2  0.02729   0.0   7.07   0.0  0.469  7.185  61.1  4.9671  2.0  242.0   \n",
       "3  0.03237   0.0   2.18   0.0  0.458  6.998  45.8  6.0622  3.0  222.0   \n",
       "4  0.06905   0.0   2.18   0.0  0.458  7.147  54.2  6.0622  3.0  222.0   \n",
       "\n",
       "   PTRATIO       B  LSTAT  \n",
       "0     15.3  396.90   4.98  \n",
       "1     17.8  396.90   9.14  \n",
       "2     17.8  392.83   4.03  \n",
       "3     18.7  394.63   2.94  \n",
       "4     18.7  396.90   5.33  "
      ]
     },
     "execution_count": 11,
     "metadata": {},
     "output_type": "execute_result"
    }
   ],
   "source": [
    "# Создаём несколько таблиц DataFrame для более удобного хранения данных.\n",
    "# В таблице X будут храниться признаки.\n",
    "# В качестве названий для столбцов возьмём массив feature_names:\n",
    "X = pd.DataFrame(data, columns=feature_names)\n",
    "\n",
    "X.head()"
   ]
  },
  {
   "cell_type": "code",
   "execution_count": 12,
   "id": "552196b4",
   "metadata": {},
   "outputs": [
    {
     "name": "stdout",
     "output_type": "stream",
     "text": [
      "<class 'pandas.core.frame.DataFrame'>\n",
      "RangeIndex: 506 entries, 0 to 505\n",
      "Data columns (total 13 columns):\n",
      " #   Column   Non-Null Count  Dtype  \n",
      "---  ------   --------------  -----  \n",
      " 0   CRIM     506 non-null    float64\n",
      " 1   ZN       506 non-null    float64\n",
      " 2   INDUS    506 non-null    float64\n",
      " 3   CHAS     506 non-null    float64\n",
      " 4   NOX      506 non-null    float64\n",
      " 5   RM       506 non-null    float64\n",
      " 6   AGE      506 non-null    float64\n",
      " 7   DIS      506 non-null    float64\n",
      " 8   RAD      506 non-null    float64\n",
      " 9   TAX      506 non-null    float64\n",
      " 10  PTRATIO  506 non-null    float64\n",
      " 11  B        506 non-null    float64\n",
      " 12  LSTAT    506 non-null    float64\n",
      "dtypes: float64(13)\n",
      "memory usage: 51.5 KB\n"
     ]
    }
   ],
   "source": [
    "# Посмотрим информацию по таблице \"Х\"\n",
    "X.info()\n",
    "# Пропущенных значений в таблице нет"
   ]
  },
  {
   "cell_type": "code",
   "execution_count": 13,
   "id": "8e34e475",
   "metadata": {},
   "outputs": [
    {
     "name": "stdout",
     "output_type": "stream",
     "text": [
      "<class 'pandas.core.frame.DataFrame'>\n",
      "RangeIndex: 506 entries, 0 to 505\n",
      "Data columns (total 1 columns):\n",
      " #   Column  Non-Null Count  Dtype  \n",
      "---  ------  --------------  -----  \n",
      " 0   price   506 non-null    float64\n",
      "dtypes: float64(1)\n",
      "memory usage: 4.1 KB\n"
     ]
    }
   ],
   "source": [
    "# Создадим таблицу \"y\", в которую запишем целевые значения:\n",
    "y = pd.DataFrame(target, columns=[\"price\"])\n",
    "\n",
    "y.info()\n",
    "# Пропущенных значений в таблице нет"
   ]
  },
  {
   "cell_type": "markdown",
   "id": "2420e69c",
   "metadata": {},
   "source": [
    "#### Разбиваем получившиеся датафреймы на тренировочные *(X_train, y_train)* и тестовые *(X_test, y_test)*"
   ]
  },
  {
   "cell_type": "code",
   "execution_count": 14,
   "id": "2fb6fb70",
   "metadata": {},
   "outputs": [],
   "source": [
    "# Разбиение данных на тренировочную и тестовую выборку выполняем с помощью функции train_test_split\n",
    "# из модуля sklearn.model_selection.\n",
    "\n",
    "from sklearn.model_selection import train_test_split"
   ]
  },
  {
   "cell_type": "code",
   "execution_count": 15,
   "id": "25e59c73",
   "metadata": {},
   "outputs": [],
   "source": [
    "# С помощью параметра test_size указываем, какую часть данных выделяем под тест.\n",
    "# Если указать число из отрезка  [0, 1], то оно будет интерпретироваться как доля тестовых объектов.\n",
    "# Если указать число большее или равное 1, то это будет число объектов в тестовой выборке.\n",
    "# Указание параметра random_state делает результат разбиения повторяемым (одинаковым) при каждом выполнении функции.\n",
    "\n",
    "X_train, X_test, y_train, y_test = train_test_split(X, y, test_size=0.33, shuffle=True, random_state=42)"
   ]
  },
  {
   "cell_type": "markdown",
   "id": "eb470cb7",
   "metadata": {},
   "source": [
    "#### Построение модели LinearRegression"
   ]
  },
  {
   "cell_type": "code",
   "execution_count": 16,
   "id": "eb646016",
   "metadata": {},
   "outputs": [],
   "source": [
    "# Загружаем модель линейной регрессии из библиотеки sklearn\n",
    "from sklearn.linear_model import LinearRegression"
   ]
  },
  {
   "cell_type": "code",
   "execution_count": 17,
   "id": "7ebc121e",
   "metadata": {},
   "outputs": [],
   "source": [
    "lr = LinearRegression()"
   ]
  },
  {
   "cell_type": "markdown",
   "id": "f3b75339",
   "metadata": {},
   "source": [
    "Модель линейной регрессии по объекту $x = (x_1, \\dots, x_n)$ предсказывает значение целевой переменной, используя линейную функцию \n",
    "\n",
    "$$f(x) = w_0 + w_1 \\cdot x_1 + \\dots + w_n \\cdot x_n.$$ \n",
    "\n",
    "Задача такой модели - в процессе обучения подобрать эти коэффициенты $w_i$ так, чтобы значение этой функции было как можно более близко к реальному целевому значению $y$ объекта $x$.\n"
   ]
  },
  {
   "cell_type": "markdown",
   "id": "e1c17b44",
   "metadata": {},
   "source": [
    "#### Обучение модели"
   ]
  },
  {
   "cell_type": "code",
   "execution_count": 18,
   "id": "e5a3d862",
   "metadata": {},
   "outputs": [
    {
     "data": {
      "text/plain": [
       "LinearRegression()"
      ]
     },
     "execution_count": 18,
     "metadata": {},
     "output_type": "execute_result"
    }
   ],
   "source": [
    "# Обучаем модель на тренировочных данных (используя все признаки).\n",
    "# чтобы обучить модель, используем метод .fit, в который передаём тренировочную выборку:\n",
    "lr.fit(X_train, y_train)"
   ]
  },
  {
   "cell_type": "markdown",
   "id": "09c28e7d",
   "metadata": {},
   "source": [
    "#### Предсказание на тестовых данных"
   ]
  },
  {
   "cell_type": "code",
   "execution_count": 19,
   "id": "f25d15f6",
   "metadata": {},
   "outputs": [
    {
     "data": {
      "text/plain": [
       "(167, 1)"
      ]
     },
     "execution_count": 19,
     "metadata": {},
     "output_type": "execute_result"
    }
   ],
   "source": [
    "# Делаем предсказание на тестовых данных с помощью метода .predict:\n",
    "y_pred = lr.predict(X_test)\n",
    "\n",
    "y_pred.shape"
   ]
  },
  {
   "cell_type": "markdown",
   "id": "bb121e56",
   "metadata": {},
   "source": [
    "#### Вычисление R2"
   ]
  },
  {
   "cell_type": "code",
   "execution_count": 20,
   "id": "35c17785",
   "metadata": {},
   "outputs": [],
   "source": [
    "# Загружаем из библиотеки sklearn функцию вычисления метрики R2\n",
    "\n",
    "from sklearn.metrics import r2_score"
   ]
  },
  {
   "cell_type": "markdown",
   "id": "90613584",
   "metadata": {},
   "source": [
    "Коэффициент детерминации ($R^{2}$ — R-квадрат) — это доля дисперсии зависимой переменной, объясняемая рассматриваемой моделью зависимости, то есть объясняющими переменными. Более точно — это единица минус доля необъяснённой дисперсии (дисперсии случайной ошибки модели, или условной по факторам дисперсии зависимой переменной) в дисперсии зависимой переменной. Его рассматривают как универсальную меру зависимости одной случайной величины от множества других. В частном случае линейной зависимости $R^{2}$ является квадратом так называемого множественного коэффициента корреляции между зависимой переменной и объясняющими переменными. В частности, для модели парной линейной регрессии коэффициент детерминации равен квадрату обычного коэффициента корреляции между $y$ и $x$.\n",
    "\n",
    "Чем ближе $R^2$ к $1$, тем лучше обобщающая способность модели.\n",
    "\n",
    "Может принимать отрицательное значение при плохой обобщающей способности модели."
   ]
  },
  {
   "cell_type": "code",
   "execution_count": 21,
   "id": "34c85501",
   "metadata": {},
   "outputs": [
    {
     "name": "stdout",
     "output_type": "stream",
     "text": [
      "R2 = 0.726\n",
      "\n"
     ]
    }
   ],
   "source": [
    "r2 = round(r2_score(y_test, y_pred), 3)\n",
    "print(f\"R2 = {r2}\\n\")"
   ]
  },
  {
   "cell_type": "markdown",
   "id": "21d0aad7",
   "metadata": {},
   "source": [
    "---\n",
    "### Задание 2\n",
    "\n",
    "Создайте модель под названием **model** с помощью `RandomForestRegressor` из модуля `sklearn.ensemble`.\n",
    "\n",
    "Сделайте агрумент **n_estimators** равным **1000**, **max_depth** должен быть равен **12** и **random_state** сделайте равным **42**.\n",
    "\n",
    "Обучите модель на тренировочных данных аналогично тому, как вы обучали модель `LinearRegression`, но при этом в метод `fit` вместо датафрейма **y_train** поставьте **y_train.values[:, 0]**, чтобы получить из датафрейма одномерный массив `Numpy`,\n",
    "так как для класса `RandomForestRegressor` в данном методе для аргумента $y$ предпочтительно применение массивов вместо датафрейма.\n",
    "\n",
    "Сделайте предсказание на тестовых данных и посчитайте $R^2$.\n",
    "\n",
    "Сравните с результатом из предыдущего задания.\n",
    "Напишите в комментариях к коду, какая модель в данном случае работает лучше."
   ]
  },
  {
   "cell_type": "markdown",
   "id": "ff2c4e34",
   "metadata": {},
   "source": [
    "#### Построение модели RandomForestRegressor"
   ]
  },
  {
   "cell_type": "code",
   "execution_count": 22,
   "id": "057e801f",
   "metadata": {},
   "outputs": [],
   "source": [
    "# Загружаем модель линейной регрессии из библиотеки sklearn\n",
    "\n",
    "from sklearn.ensemble import RandomForestRegressor"
   ]
  },
  {
   "cell_type": "markdown",
   "id": "27671298",
   "metadata": {},
   "source": [
    "**RandomForest** - это мета-оценщик, который настраивает несколько классифицирующих деревьев решений на различных подвыборках набора данных и использует усреднение для повышения точности прогнозирования и борьбы с перебором. Размер подвыборки контролируется параметром **max_samples**, если **bootstrap=True** (по умолчанию), в противном случае для построения каждого дерева используется весь набор данных.\n",
    "\n",
    "В **RandomForest** (см. классы `RandomForestClassifier` и `RandomForestRegressor`) каждое дерево в ансамбле строится на основе выборки, взятой с заменой (т.е. бутстреп-выборки) из обучающего множества.\n",
    "\n",
    "Кроме того, при разбиении каждого узла во время построения дерева наилучшее разбиение находится либо из всех входных признаков, либо из случайного подмножества размером **max_features**.\n",
    "\n",
    "Цель этих двух источников случайности - уменьшить дисперсию оценщика леса. Действительно, отдельные деревья решений обычно демонстрируют высокую дисперсию и склонны к чрезмерной подгонке. Внесение случайности в лес дает деревья решений с несколько разделенными ошибками предсказания. Если взять среднее значение этих прогнозов, то некоторые ошибки могут нивелироваться. **RandomForest** достигают уменьшения дисперсии путем объединения различных деревьев, иногда ценой небольшого увеличения погрешности. На практике снижение дисперсии часто бывает значительным, что в целом дает лучшую модель.\n",
    "\n",
    "В отличие от оригинальной публикации, реализация scikit-learn объединяет классификаторы путем усреднения их вероятностных предсказаний, вместо того, чтобы позволить каждому классификатору голосовать за один класс.\n",
    "\n",
    "Несколько параметров данной модели:\n",
    "\n",
    "* `n_estimators` - число деревьев в ансамбле\n",
    "* `max_features` - максимальное число признаков, которое может быть использовано при построении каждого дерева\n",
    "* `max_depth` - максимальная глубина дерева\n",
    "* `random_state` - Управляет как случайностью бутстреппинга выборок, используемых при построении деревьев (если ``bootstrap=True``) и выборкой признаков, которые будут учитываться при поиске наилучшего разделения в каждом узле      признаков для рассмотрения при поиске наилучшего разбиения в каждом узле. При задании числа приводит к повторяемости результатов (по умолчанию = None)\n"
   ]
  },
  {
   "cell_type": "code",
   "execution_count": 23,
   "id": "f37a2ec9",
   "metadata": {},
   "outputs": [],
   "source": [
    "# Создаём модель\n",
    "\n",
    "model = RandomForestRegressor(n_estimators=1000, max_depth=12, random_state=42)"
   ]
  },
  {
   "cell_type": "markdown",
   "id": "78f78ab1",
   "metadata": {},
   "source": [
    "#### Обучение модели"
   ]
  },
  {
   "cell_type": "code",
   "execution_count": 24,
   "id": "d15286e8",
   "metadata": {},
   "outputs": [
    {
     "data": {
      "text/plain": [
       "RandomForestRegressor(max_depth=12, n_estimators=1000, random_state=42)"
      ]
     },
     "execution_count": 24,
     "metadata": {},
     "output_type": "execute_result"
    }
   ],
   "source": [
    "# Обучаем модель на тренировочных данных (используя все признаки).\n",
    "# чтобы обучить модель, используем метод .fit, в который передаём тренировочную выборку:\n",
    "model.fit(X_train, y_train.values[:, 0])"
   ]
  },
  {
   "cell_type": "markdown",
   "id": "5e2140ff",
   "metadata": {},
   "source": [
    "#### Предсказание на тестовых данных"
   ]
  },
  {
   "cell_type": "code",
   "execution_count": 25,
   "id": "01bf2a21",
   "metadata": {},
   "outputs": [
    {
     "data": {
      "text/plain": [
       "(167,)"
      ]
     },
     "execution_count": 25,
     "metadata": {},
     "output_type": "execute_result"
    }
   ],
   "source": [
    "# Делаем предсказание на тестовых данных с помощью метода .predict:\n",
    "y_pred = model.predict(X_test)\n",
    "\n",
    "y_pred.shape"
   ]
  },
  {
   "cell_type": "markdown",
   "id": "4fdccd62",
   "metadata": {},
   "source": [
    "#### Вычисление R2"
   ]
  },
  {
   "cell_type": "code",
   "execution_count": 26,
   "id": "04f6b885",
   "metadata": {},
   "outputs": [
    {
     "name": "stdout",
     "output_type": "stream",
     "text": [
      "R2 = 0.866\n",
      "\n"
     ]
    }
   ],
   "source": [
    "r2 = round(r2_score(y_test, y_pred), 3)\n",
    "print(f\"R2 = {r2}\\n\")"
   ]
  },
  {
   "cell_type": "markdown",
   "id": "5b256423",
   "metadata": {},
   "source": [
    "---\n",
    "### Вывод\n",
    "Применение модели **RandomForestRegressor**, в данном случае, даёт лучший результат (лучшую точность предсказанных даннных), чем применение модели **LinearRegression**."
   ]
  }
 ],
 "metadata": {
  "kernelspec": {
   "display_name": "Python 3",
   "language": "python",
   "name": "python3"
  },
  "language_info": {
   "codemirror_mode": {
    "name": "ipython",
    "version": 3
   },
   "file_extension": ".py",
   "mimetype": "text/x-python",
   "name": "python",
   "nbconvert_exporter": "python",
   "pygments_lexer": "ipython3",
   "version": "3.8.8"
  }
 },
 "nbformat": 4,
 "nbformat_minor": 5
}
